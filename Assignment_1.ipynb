{
  "nbformat": 4,
  "nbformat_minor": 0,
  "metadata": {
    "colab": {
      "name": "Assignment_1.ipynb",
      "provenance": [],
      "authorship_tag": "ABX9TyO84A/TQn1wXWe09wGwVqFA",
      "include_colab_link": true
    },
    "kernelspec": {
      "name": "python3",
      "display_name": "Python 3"
    },
    "language_info": {
      "name": "python"
    }
  },
  "cells": [
    {
      "cell_type": "markdown",
      "metadata": {
        "id": "view-in-github",
        "colab_type": "text"
      },
      "source": [
        "<a href=\"https://colab.research.google.com/github/Brandon-Cottrell/TECHIS-JS-A-Brandon/blob/main/Assignment_1.ipynb\" target=\"_parent\"><img src=\"https://colab.research.google.com/assets/colab-badge.svg\" alt=\"Open In Colab\"/></a>"
      ]
    },
    {
      "cell_type": "code",
      "execution_count": null,
      "metadata": {
        "id": "ggTr--UXajPO"
      },
      "outputs": [],
      "source": [
        "# Merge two list \n",
        "class Solution:\n",
        "    def mergeTwoLists(self, list1: Optional[ListNode], list2: Optional[ListNode]) -> Optional[ListNode]:\n",
        "        test = ListNode()\n",
        "        new_list = test\n",
        "        while list1 and list2:\n",
        "            if list1.val <= list2.val:\n",
        "                new_list.next = list1\n",
        "                list1 = list1.next\n",
        "            else:\n",
        "                new_list.next = list2\n",
        "                list2 = list2.next\n",
        "            new_list = new_list.next\n",
        "        if list1:\n",
        "            new_list.next = list1\n",
        "        elif list2:\n",
        "            new_list.next = list2\n",
        "        return test.next"
      ]
    }
  ]
}