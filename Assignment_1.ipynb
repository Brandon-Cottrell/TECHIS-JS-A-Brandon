{
  "nbformat": 4,
  "nbformat_minor": 0,
  "metadata": {
    "colab": {
      "name": "Assignment_1.ipynb",
      "provenance": [],
      "collapsed_sections": [],
      "include_colab_link": true
    },
    "kernelspec": {
      "name": "python3",
      "display_name": "Python 3"
    },
    "language_info": {
      "name": "python"
    }
  },
  "cells": [
    {
      "cell_type": "markdown",
      "metadata": {
        "id": "view-in-github",
        "colab_type": "text"
      },
      "source": [
        "<a href=\"https://colab.research.google.com/github/Brandon-Cottrell/TECHIS-JS-A-Brandon/blob/main/Assignment_1.ipynb\" target=\"_parent\"><img src=\"https://colab.research.google.com/assets/colab-badge.svg\" alt=\"Open In Colab\"/></a>"
      ]
    },
    {
      "cell_type": "code",
      "execution_count": null,
      "metadata": {
        "id": "ggTr--UXajPO"
      },
      "outputs": [],
      "source": [
        "# Merge two list \n",
        "class Solution:\n",
        "    def mergeTwoLists(self, list1: Optional[ListNode], list2: Optional[ListNode]) -> Optional[ListNode]:\n",
        "        test = ListNode()\n",
        "        new_list = test\n",
        "        while list1 and list2:\n",
        "            if list1.val <= list2.val:\n",
        "                new_list.next = list1\n",
        "                list1 = list1.next\n",
        "            else:\n",
        "                new_list.next = list2\n",
        "                list2 = list2.next\n",
        "            new_list = new_list.next\n",
        "        if list1:\n",
        "            new_list.next = list1\n",
        "        elif list2:\n",
        "            new_list.next = list2\n",
        "        return test.next"
      ]
    },
    {
      "cell_type": "code",
      "source": [
        "#Number of 1 bits\n",
        "#  question 2\n",
        "class Solution:\n",
        "    def hammingWeight(self, n: int) -> int:\n",
        "        c = 0\n",
        "        while n: \n",
        "            if (n&1):\n",
        "                c += 1\n",
        "            n=n>>1\n",
        "        return c"
      ],
      "metadata": {
        "id": "YdW9bBvpbcHE"
      },
      "execution_count": null,
      "outputs": []
    },
    {
      "cell_type": "code",
      "source": [
        "#Final Value After Operations\n",
        "# question 3\n",
        "\n",
        "class Solution:\n",
        "    def finalValueAfterOperations(self, operations: List[str]) -> int:\n",
        "        \n",
        "        return sum ([1 if '+' in x else -1 for x in operations])"
      ],
      "metadata": {
        "id": "4uOqQhqF8dvK"
      },
      "execution_count": null,
      "outputs": []
    },
    {
      "cell_type": "markdown",
      "source": [
        ""
      ],
      "metadata": {
        "id": "sDlN6F53iD1C"
      }
    }
  ]
}